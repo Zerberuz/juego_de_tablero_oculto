{
  "nbformat": 4,
  "nbformat_minor": 0,
  "metadata": {
    "colab": {
      "provenance": [],
      "authorship_tag": "ABX9TyPTnhz1V2Zm8NwshvlNMINT",
      "include_colab_link": true
    },
    "kernelspec": {
      "name": "python3",
      "display_name": "Python 3"
    },
    "language_info": {
      "name": "python"
    }
  },
  "cells": [
    {
      "cell_type": "markdown",
      "metadata": {
        "id": "view-in-github",
        "colab_type": "text"
      },
      "source": [
        "<a href=\"https://colab.research.google.com/github/Zerberuz/juego_de_tablero_oculto/blob/main/Juego_oculta.ipynb\" target=\"_parent\"><img src=\"https://colab.research.google.com/assets/colab-badge.svg\" alt=\"Open In Colab\"/></a>"
      ]
    },
    {
      "cell_type": "code",
      "execution_count": 3,
      "metadata": {
        "colab": {
          "base_uri": "https://localhost:8080/"
        },
        "id": "L6vMA0CTwo8o",
        "outputId": "d33ce9df-4093-4ff1-b856-0bd1fd189876"
      },
      "outputs": [
        {
          "name": "stdout",
          "output_type": "stream",
          "text": [
            "¡Un valor secreto ha sido ocultado en el tablero!\n",
            "A * Q J Q\n",
            "K C A B J\n",
            "C A J J K\n",
            "Q B K Q K\n",
            "C K J K A\n",
            "Adivina el valor secreto: A\n",
            "\n",
            "Lo siento, el valor secreto era 'C'.\n",
            "\n",
            "¿Quieres volver a jugar? (s/n): N\n"
          ]
        }
      ],
      "source": [
        "import random\n",
        "import time\n",
        "from IPython.display import clear_output\n",
        "def create_board(size, options):\n",
        "    board = [[random.choice(options) for _ in range(size)] for _ in range(size)]\n",
        "    return board\n",
        "def show_board(board):\n",
        "    for row in board:\n",
        "        print(\" \".join(row))\n",
        "def hide_value(board):\n",
        "    secret_row = random.randint(0, len(board)-1)\n",
        "    secret_col = random.randint(0, len(board[0])-1)\n",
        "    secret_value = board[secret_row][secret_col]\n",
        "    board[secret_row][secret_col] = \"*\"\n",
        "    return secret_row, secret_col, secret_value, board\n",
        "def play_game(size, options):\n",
        "    board = create_board(size, options)\n",
        "    show_board(board)\n",
        "    time.sleep(2)\n",
        "    clear_output()\n",
        "    secret_row, secret_col, secret_value, board = hide_value(board)\n",
        "    print(\"¡Un valor secreto ha sido ocultado en el tablero!\")\n",
        "    show_board(board)\n",
        "    secret = input(\"Adivina el valor secreto: \")\n",
        "\n",
        "    if secret == secret_value:\n",
        "        print(\"\\n¡Felicidades! ¡Has encontrado el valor secreto!\")\n",
        "    else:\n",
        "        print(\"\\nLo siento, el valor secreto era '{}'.\".format(secret_value))\n",
        "\n",
        "def main():\n",
        "    print(\"Bienvenido al Juego de Tablero\")\n",
        "    while True:\n",
        "        size = int(input(\"Ingrese el tamaño del tablero: \"))\n",
        "        options = ['J', 'Q', 'K', 'A', 'B', 'C']\n",
        "\n",
        "        play_game(size, options)\n",
        "\n",
        "        play_again = input(\"\\n¿Quieres volver a jugar? (s/n): \").lower()\n",
        "        if play_again != 's':\n",
        "            break\n",
        "\n",
        "if __name__ == \"__main__\":\n",
        "    main()"
      ]
    }
  ]
}